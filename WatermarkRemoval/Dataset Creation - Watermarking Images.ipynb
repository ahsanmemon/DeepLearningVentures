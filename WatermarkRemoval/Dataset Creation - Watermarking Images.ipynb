{
 "cells": [
  {
   "cell_type": "markdown",
   "metadata": {},
   "source": [
    "# Image Datasets\n",
    "http://www.cs.cmu.edu/~cil/v-images.html <br>\n",
    "\n",
    "## High Resolution\n",
    "https://data.vision.ee.ethz.ch/cvl/DIV2K/"
   ]
  },
  {
   "cell_type": "code",
   "execution_count": 1,
   "metadata": {},
   "outputs": [],
   "source": [
    "# import the necessary packages\n",
    "from imutils import paths\n",
    "import numpy as np\n",
    "import argparse\n",
    "import cv2\n",
    "import os"
   ]
  },
  {
   "cell_type": "code",
   "execution_count": 2,
   "metadata": {},
   "outputs": [
    {
     "name": "stdout",
     "output_type": "stream",
     "text": [
      "name 'data_path' is not defined\n"
     ]
    }
   ],
   "source": [
    "\"\"\"\n",
    "    Make folder\n",
    "\"\"\"\n",
    "try:\n",
    "    output_path = os.path.join(data_path, watermarked_path)\n",
    "    os.mkdir(data_path)\n",
    "    os.mkdir(output_path)\n",
    "except Exception as e:\n",
    "    print(str(e))"
   ]
  },
  {
   "cell_type": "code",
   "execution_count": 3,
   "metadata": {},
   "outputs": [],
   "source": [
    "def image_resize(image, width = None, height = None, inter = cv2.INTER_AREA):\n",
    "    # initialize the dimensions of the image to be resized and\n",
    "    # grab the image size\n",
    "    dim = None\n",
    "    (h, w) = image.shape[:2]\n",
    "\n",
    "    # if both the width and height are None, then return the\n",
    "    # original image\n",
    "    if width is None and height is None:\n",
    "        return image\n",
    "\n",
    "    # check to see if the width is None\n",
    "    if width is None:\n",
    "        # calculate the ratio of the height and construct the\n",
    "        # dimensions\n",
    "        r = height / float(h)\n",
    "        dim = (int(w * r), height)\n",
    "\n",
    "    # otherwise, the height is None\n",
    "    else:\n",
    "        # calculate the ratio of the width and construct the\n",
    "        # dimensions\n",
    "        r = width / float(w)\n",
    "        dim = (width, int(h * r))\n",
    "\n",
    "    # resize the image\n",
    "    resized = cv2.resize(image, dim, interpolation = inter)\n",
    "\n",
    "    # return the resized image\n",
    "    return resized"
   ]
  },
  {
   "cell_type": "markdown",
   "metadata": {},
   "source": [
    "# Loading DIV2K"
   ]
  },
  {
   "cell_type": "markdown",
   "metadata": {},
   "source": [
    "# Clip Dataset Pleaseeee"
   ]
  },
  {
   "cell_type": "code",
   "execution_count": 4,
   "metadata": {},
   "outputs": [],
   "source": [
    "import os\n",
    "import glob\n",
    "from IPython.display import clear_output\n",
    "import time\n",
    "from matplotlib import pyplot as plt\n",
    "\n",
    "div2k_path = \"F:\\Datasets\\DIV2K High Resolution Dataset\"\n",
    "subset = \"DIV2K_train_HR\"\n",
    "div2k_train_path = os.path.join(div2k_path, subset)\n",
    "filenames = glob.glob(div2k_train_path+\"/*/*.png\")"
   ]
  },
  {
   "cell_type": "code",
   "execution_count": 6,
   "metadata": {},
   "outputs": [
    {
     "name": "stdout",
     "output_type": "stream",
     "text": [
      "99.88% completed\n",
      "0 minutes left\n"
     ]
    }
   ],
   "source": [
    "output_dataset_path = \"F:/Datasets/DIV2K - Watermarks/train\"\n",
    "n_image_copies = 20\n",
    "\n",
    "if not os.path.isdir(output_dataset_path):\n",
    "    os.mkdir(output_dataset_path)\n",
    "\n",
    "total_files = len(filenames)\n",
    "start_time = time.time()\n",
    "for i, filename in enumerate(filenames):\n",
    "    try:\n",
    "        time_per_iteration = time.time()-start_time\n",
    "        start_time = time.time()    \n",
    "        clear_output()\n",
    "        print(f\"{(np.round(i/total_files, 4))*100}% completed\")\n",
    "        print(f\"{round(time_per_iteration*(total_files-i)/60)} minutes left\")\n",
    "        for j in range(n_image_copies):\n",
    "    #         print(filename)\n",
    "            imagePath = filename\n",
    "            data_path = \"data\"\n",
    "            watermarked_path = \"watermarked_images\"\n",
    "\n",
    "            alpha = np.random.uniform(low=0.2, high=0.5, size=(1,))[0]\n",
    "\n",
    "            # Loading Watermark\n",
    "            watermark = cv2.imread(\"data/Remax Logo.png\", cv2.IMREAD_UNCHANGED)\n",
    "            watermark = image_resize(watermark, height=np.random.randint(30,100))\n",
    "\n",
    "            (wH, wW) = watermark.shape[:2]\n",
    "            correct = 1\n",
    "            if correct > 0:\n",
    "                (B, G, R, A) = cv2.split(watermark)\n",
    "                B = cv2.bitwise_and(B, B, mask=A)\n",
    "                G = cv2.bitwise_and(G, G, mask=A)\n",
    "                R = cv2.bitwise_and(R, R, mask=A)\n",
    "                watermark = cv2.merge([B, G, R, A])\n",
    "    #         print('watermark shape: ', watermark.shape)\n",
    "\n",
    "            # Loading Image\n",
    "            image = cv2.imread(imagePath)\n",
    "            image = image_resize(image, height=200)\n",
    "            image = image[:,:200,:] # get 200 in width too\n",
    "            if image.shape != (200,200,3):\n",
    "                continue_loop = True\n",
    "                break\n",
    "            (h, w) = image.shape[:2]\n",
    "    #         print('image shape: ', image.shape)\n",
    "            image = np.dstack([image, np.ones((h, w), dtype=\"uint8\") * 255])\n",
    "\n",
    "            overlay = np.zeros((h, w, 4), dtype=\"uint8\")\n",
    "\n",
    "            x_start = np.random.randint(0,image.shape[0] - watermark.shape[0] - 10)\n",
    "            x_end = x_start+watermark.shape[0]\n",
    "            y_start = np.random.randint(0, image.shape[1] - watermark.shape[1] - 10)\n",
    "            y_end = y_start + watermark.shape[1]\n",
    "\n",
    "    #         print(f\"{x_start}:{x_end}, {y_start}:{y_end}\")\n",
    "            overlay[x_start:x_end, y_start:y_end] = watermark\n",
    "\n",
    "            # blend the two images together using transparent overlays\n",
    "            output = image.copy()\n",
    "            cv2.addWeighted(overlay, alpha, output, 1.0, 0, output);\n",
    "    #         plt.imshow(output)\n",
    "            output_file_name = os.path.basename(filename).replace(\".png\",f\"_{j}.png\")\n",
    "            output_name = os.path.join(output_dataset_path, output_file_name)\n",
    "    #         print(f\"output filename: {output_name}\")\n",
    "    #         filename = imagePath[imagePath.rfind(os.path.sep) + 1:]\n",
    "    #         p = os.path.sep.join((output_path, filename))\n",
    "            cv2.imwrite(output_name, output)\n",
    "        if continue_loop:\n",
    "            continue\n",
    "    except:\n",
    "        pass"
   ]
  },
  {
   "cell_type": "markdown",
   "metadata": {},
   "source": [
    "# Preparing Ground Truth"
   ]
  },
  {
   "cell_type": "code",
   "execution_count": 7,
   "metadata": {},
   "outputs": [
    {
     "name": "stdout",
     "output_type": "stream",
     "text": [
      "99.88% completed\n",
      "0 minutes left\n"
     ]
    }
   ],
   "source": [
    "output_ground_path = \"F:/Datasets/DIV2K - Watermarks/ground_truth\"\n",
    "if not os.path.isdir(output_ground_path):\n",
    "    os.mkdir(output_ground_path)\n",
    "    \n",
    "total_files = len(filenames)\n",
    "start_time = time.time()\n",
    "for i, filename in enumerate(filenames):\n",
    "    try:\n",
    "        time_per_iteration = time.time()-start_time\n",
    "        start_time = time.time()    \n",
    "        clear_output()\n",
    "        print(f\"{(np.round(i/total_files, 4))*100}% completed\")\n",
    "        print(f\"{round(time_per_iteration*(total_files-i)/60)} minutes left\")\n",
    "        image = cv2.imread(filename)\n",
    "        image = image_resize(image, height=200)\n",
    "        image = image[:,:200,:] # get 200 in width too\n",
    "        if image.shape != (200,200,3):\n",
    "            continue\n",
    "        for j in range(n_image_copies):\n",
    "            output_file_name = os.path.basename(filename).replace(\".png\",f\"_{j}.png\")\n",
    "            output_name = os.path.join(output_ground_path, output_file_name)\n",
    "            cv2.imwrite(output_name, image)\n",
    "    except:\n",
    "        pass"
   ]
  },
  {
   "cell_type": "code",
   "execution_count": null,
   "metadata": {},
   "outputs": [],
   "source": []
  },
  {
   "cell_type": "code",
   "execution_count": null,
   "metadata": {},
   "outputs": [],
   "source": []
  },
  {
   "cell_type": "code",
   "execution_count": null,
   "metadata": {},
   "outputs": [],
   "source": []
  },
  {
   "cell_type": "code",
   "execution_count": null,
   "metadata": {},
   "outputs": [],
   "source": []
  },
  {
   "cell_type": "markdown",
   "metadata": {},
   "source": [
    "# Loading CIFAR"
   ]
  },
  {
   "cell_type": "code",
   "execution_count": 74,
   "metadata": {},
   "outputs": [],
   "source": [
    "cifar_path = \"F:/Datasets/cifar-100-python/cifar-100-python\"\n",
    "train_path = \"train\"\n",
    "train_path = os.path.join(cifar_path,train_path)"
   ]
  },
  {
   "cell_type": "code",
   "execution_count": 75,
   "metadata": {},
   "outputs": [],
   "source": [
    "def unpickle(file):\n",
    "    import pickle\n",
    "    with open(file, 'rb') as fo:\n",
    "        dict = pickle.load(fo, encoding='bytes')\n",
    "    return dict\n",
    "dataset = unpickle(train_path)"
   ]
  },
  {
   "cell_type": "code",
   "execution_count": 80,
   "metadata": {},
   "outputs": [
    {
     "ename": "TypeError",
     "evalue": "'dict_keys' object is not subscriptable",
     "output_type": "error",
     "traceback": [
      "\u001b[1;31m---------------------------------------------------------------------------\u001b[0m",
      "\u001b[1;31mTypeError\u001b[0m                                 Traceback (most recent call last)",
      "\u001b[1;32m<ipython-input-80-f06d05eaa72e>\u001b[0m in \u001b[0;36m<module>\u001b[1;34m\u001b[0m\n\u001b[1;32m----> 1\u001b[1;33m \u001b[0mdataset\u001b[0m\u001b[1;33m.\u001b[0m\u001b[0mkeys\u001b[0m\u001b[1;33m(\u001b[0m\u001b[1;33m)\u001b[0m\u001b[1;33m[\u001b[0m\u001b[1;36m0\u001b[0m\u001b[1;33m]\u001b[0m\u001b[1;33m\u001b[0m\u001b[1;33m\u001b[0m\u001b[0m\n\u001b[0m",
      "\u001b[1;31mTypeError\u001b[0m: 'dict_keys' object is not subscriptable"
     ]
    }
   ],
   "source": [
    "dataset.keys()"
   ]
  },
  {
   "cell_type": "code",
   "execution_count": 84,
   "metadata": {},
   "outputs": [],
   "source": [
    "cifar_filenames = list(dataset[list(dataset.keys())[0]])"
   ]
  },
  {
   "cell_type": "code",
   "execution_count": 91,
   "metadata": {},
   "outputs": [],
   "source": [
    "img = list(dataset[list(dataset.keys())[4]])[0]"
   ]
  },
  {
   "cell_type": "code",
   "execution_count": 96,
   "metadata": {},
   "outputs": [
    {
     "data": {
      "text/plain": [
       "(3072,)"
      ]
     },
     "execution_count": 96,
     "metadata": {},
     "output_type": "execute_result"
    }
   ],
   "source": [
    "img.shape"
   ]
  },
  {
   "cell_type": "code",
   "execution_count": 105,
   "metadata": {},
   "outputs": [
    {
     "data": {
      "text/plain": [
       "<matplotlib.image.AxesImage at 0x1992c959f48>"
      ]
     },
     "execution_count": 105,
     "metadata": {},
     "output_type": "execute_result"
    },
    {
     "data": {
      "image/png": "[encoded data removed]",
      "text/plain": [
       "<Figure size 432x288 with 1 Axes>"
      ]
     },
     "metadata": {
      "needs_background": "light"
     },
     "output_type": "display_data"
    }
   ],
   "source": [
    "plt.imshow(img.reshape(3, 32, 32).transpose(1,2,0))\n",
    "# .astype(\"uint8\").transpose(0,2,3,1)"
   ]
  },
  {
   "cell_type": "code",
   "execution_count": 93,
   "metadata": {},
   "outputs": [
    {
     "data": {
      "text/plain": [
       "(3072,)"
      ]
     },
     "execution_count": 93,
     "metadata": {},
     "output_type": "execute_result"
    }
   ],
   "source": [
    "img.shape"
   ]
  },
  {
   "cell_type": "code",
   "execution_count": null,
   "metadata": {},
   "outputs": [],
   "source": []
  },
  {
   "cell_type": "code",
   "execution_count": null,
   "metadata": {},
   "outputs": [],
   "source": []
  },
  {
   "cell_type": "code",
   "execution_count": null,
   "metadata": {},
   "outputs": [],
   "source": []
  },
  {
   "cell_type": "code",
   "execution_count": null,
   "metadata": {},
   "outputs": [],
   "source": []
  },
  {
   "cell_type": "code",
   "execution_count": 95,
   "metadata": {},
   "outputs": [
    {
     "data": {
      "text/plain": [
       "<function glob.glob(pathname, *, recursive=False)>"
      ]
     },
     "execution_count": 95,
     "metadata": {},
     "output_type": "execute_result"
    }
   ],
   "source": []
  },
  {
   "cell_type": "code",
   "execution_count": null,
   "metadata": {},
   "outputs": [],
   "source": []
  }
 ],
 "metadata": {
  "kernelspec": {
   "display_name": "Python 3",
   "language": "python",
   "name": "python3"
  },
  "language_info": {
   "codemirror_mode": {
    "name": "ipython",
    "version": 3
   },
   "file_extension": ".py",
   "mimetype": "text/x-python",
   "name": "python",
   "nbconvert_exporter": "python",
   "pygments_lexer": "ipython3",
   "version": "3.7.6"
  }
 },
 "nbformat": 4,
 "nbformat_minor": 4
}
